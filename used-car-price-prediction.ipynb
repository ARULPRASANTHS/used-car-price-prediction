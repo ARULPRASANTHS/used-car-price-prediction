{
 "cells": [
  {
   "cell_type": "code",
   "execution_count": 2,
   "id": "bdf4da8a",
   "metadata": {
    "_cell_guid": "b1076dfc-b9ad-4769-8c92-a6c4dae69d19",
    "_uuid": "8f2839f25d086af736a60e9eeb907d3b93b6e0e5",
    "papermill": {
     "duration": 0.436313,
     "end_time": "2024-01-08T11:00:01.739904",
     "exception": false,
     "start_time": "2024-01-08T11:00:01.303591",
     "status": "completed"
    },
    "tags": []
   },
   "outputs": [],
   "source": [
    "import numpy as np \n",
    "import pandas as pd \n",
    "import os\n",
    "import joblib"
   ]
  },
  {
   "cell_type": "code",
   "execution_count": null,
   "id": "4fd045af",
   "metadata": {},
   "outputs": [],
   "source": []
  },
  {
   "cell_type": "markdown",
   "id": "1e07c50d",
   "metadata": {
    "papermill": {
     "duration": 0.004437,
     "end_time": "2024-01-08T11:00:01.749422",
     "exception": false,
     "start_time": "2024-01-08T11:00:01.744985",
     "status": "completed"
    },
    "tags": []
   },
   "source": [
    "## Importing Libraries for Machine learning"
   ]
  },
  {
   "cell_type": "code",
   "execution_count": 5,
   "id": "f42d4b99",
   "metadata": {},
   "outputs": [],
   "source": [
    "# !pip install matplotlib"
   ]
  },
  {
   "cell_type": "code",
   "execution_count": 6,
   "id": "4149cca2",
   "metadata": {
    "papermill": {
     "duration": 3.697275,
     "end_time": "2024-01-08T11:00:05.451731",
     "exception": false,
     "start_time": "2024-01-08T11:00:01.754456",
     "status": "completed"
    },
    "tags": []
   },
   "outputs": [],
   "source": [
    "from sklearn.model_selection import train_test_split\n",
    "from sklearn.linear_model import LinearRegression\n",
    "from sklearn.metrics import mean_squared_error,mean_absolute_error\n",
    "from sklearn.preprocessing import LabelEncoder\n",
    "import matplotlib.pyplot as plt"
   ]
  },
  {
   "cell_type": "code",
   "execution_count": 7,
   "id": "64fb4285",
   "metadata": {},
   "outputs": [],
   "source": [
    "# cd \"used-car-price-prediction-randomforest\""
   ]
  },
  {
   "cell_type": "code",
   "execution_count": 8,
   "id": "bdf43085",
   "metadata": {},
   "outputs": [],
   "source": [
    "# cd \"used-car-price-prediction-randomforest\""
   ]
  },
  {
   "cell_type": "markdown",
   "id": "a278394f",
   "metadata": {
    "papermill": {
     "duration": 0.004348,
     "end_time": "2024-01-08T11:00:05.460830",
     "exception": false,
     "start_time": "2024-01-08T11:00:05.456482",
     "status": "completed"
    },
    "tags": []
   },
   "source": [
    "## Reading the data"
   ]
  },
  {
   "cell_type": "code",
   "execution_count": 9,
   "id": "d5a0d208",
   "metadata": {
    "papermill": {
     "duration": 0.051835,
     "end_time": "2024-01-08T11:00:05.517190",
     "exception": false,
     "start_time": "2024-01-08T11:00:05.465355",
     "status": "completed"
    },
    "tags": []
   },
   "outputs": [
    {
     "data": {
      "text/html": [
       "<div>\n",
       "<style scoped>\n",
       "    .dataframe tbody tr th:only-of-type {\n",
       "        vertical-align: middle;\n",
       "    }\n",
       "\n",
       "    .dataframe tbody tr th {\n",
       "        vertical-align: top;\n",
       "    }\n",
       "\n",
       "    .dataframe thead th {\n",
       "        text-align: right;\n",
       "    }\n",
       "</style>\n",
       "<table border=\"1\" class=\"dataframe\">\n",
       "  <thead>\n",
       "    <tr style=\"text-align: right;\">\n",
       "      <th></th>\n",
       "      <th>Car_Name</th>\n",
       "      <th>Year</th>\n",
       "      <th>Selling_Price</th>\n",
       "      <th>Present_Price</th>\n",
       "      <th>Kms_Driven</th>\n",
       "      <th>Fuel_Type</th>\n",
       "      <th>Seller_Type</th>\n",
       "      <th>Transmission</th>\n",
       "      <th>Owner</th>\n",
       "    </tr>\n",
       "  </thead>\n",
       "  <tbody>\n",
       "    <tr>\n",
       "      <th>0</th>\n",
       "      <td>ritz</td>\n",
       "      <td>2014</td>\n",
       "      <td>3.35</td>\n",
       "      <td>5.59</td>\n",
       "      <td>27000</td>\n",
       "      <td>Petrol</td>\n",
       "      <td>Dealer</td>\n",
       "      <td>Manual</td>\n",
       "      <td>0</td>\n",
       "    </tr>\n",
       "    <tr>\n",
       "      <th>1</th>\n",
       "      <td>sx4</td>\n",
       "      <td>2013</td>\n",
       "      <td>4.75</td>\n",
       "      <td>9.54</td>\n",
       "      <td>43000</td>\n",
       "      <td>Diesel</td>\n",
       "      <td>Dealer</td>\n",
       "      <td>Manual</td>\n",
       "      <td>0</td>\n",
       "    </tr>\n",
       "    <tr>\n",
       "      <th>2</th>\n",
       "      <td>ciaz</td>\n",
       "      <td>2017</td>\n",
       "      <td>7.25</td>\n",
       "      <td>9.85</td>\n",
       "      <td>6900</td>\n",
       "      <td>Petrol</td>\n",
       "      <td>Dealer</td>\n",
       "      <td>Manual</td>\n",
       "      <td>0</td>\n",
       "    </tr>\n",
       "    <tr>\n",
       "      <th>3</th>\n",
       "      <td>wagon r</td>\n",
       "      <td>2011</td>\n",
       "      <td>2.85</td>\n",
       "      <td>4.15</td>\n",
       "      <td>5200</td>\n",
       "      <td>Petrol</td>\n",
       "      <td>Dealer</td>\n",
       "      <td>Manual</td>\n",
       "      <td>0</td>\n",
       "    </tr>\n",
       "    <tr>\n",
       "      <th>4</th>\n",
       "      <td>swift</td>\n",
       "      <td>2014</td>\n",
       "      <td>4.60</td>\n",
       "      <td>6.87</td>\n",
       "      <td>42450</td>\n",
       "      <td>Diesel</td>\n",
       "      <td>Dealer</td>\n",
       "      <td>Manual</td>\n",
       "      <td>0</td>\n",
       "    </tr>\n",
       "  </tbody>\n",
       "</table>\n",
       "</div>"
      ],
      "text/plain": [
       "  Car_Name  Year  Selling_Price  Present_Price  Kms_Driven Fuel_Type  \\\n",
       "0     ritz  2014           3.35           5.59       27000    Petrol   \n",
       "1      sx4  2013           4.75           9.54       43000    Diesel   \n",
       "2     ciaz  2017           7.25           9.85        6900    Petrol   \n",
       "3  wagon r  2011           2.85           4.15        5200    Petrol   \n",
       "4    swift  2014           4.60           6.87       42450    Diesel   \n",
       "\n",
       "  Seller_Type Transmission  Owner  \n",
       "0      Dealer       Manual      0  \n",
       "1      Dealer       Manual      0  \n",
       "2      Dealer       Manual      0  \n",
       "3      Dealer       Manual      0  \n",
       "4      Dealer       Manual      0  "
      ]
     },
     "execution_count": 9,
     "metadata": {},
     "output_type": "execute_result"
    }
   ],
   "source": [
    "df=pd.read_csv('ss.csv')\n",
    "df.head()"
   ]
  },
  {
   "cell_type": "markdown",
   "id": "22c3e7df",
   "metadata": {
    "papermill": {
     "duration": 0.004768,
     "end_time": "2024-01-08T11:00:05.527042",
     "exception": false,
     "start_time": "2024-01-08T11:00:05.522274",
     "status": "completed"
    },
    "tags": []
   },
   "source": [
    "## Convert the text values into the numerical values for the model"
   ]
  },
  {
   "cell_type": "code",
   "execution_count": 10,
   "id": "3af6e8d9",
   "metadata": {},
   "outputs": [
    {
     "name": "stdout",
     "output_type": "stream",
     "text": [
      "<bound method IndexOpsMixin.value_counts of 0         ritz\n",
      "1          sx4\n",
      "2         ciaz\n",
      "3      wagon r\n",
      "4        swift\n",
      "        ...   \n",
      "296       city\n",
      "297       brio\n",
      "298       city\n",
      "299       city\n",
      "300       brio\n",
      "Name: Car_Name, Length: 301, dtype: object>\n",
      "<bound method IndexOpsMixin.value_counts of 0      2014\n",
      "1      2013\n",
      "2      2017\n",
      "3      2011\n",
      "4      2014\n",
      "       ... \n",
      "296    2016\n",
      "297    2015\n",
      "298    2009\n",
      "299    2017\n",
      "300    2016\n",
      "Name: Year, Length: 301, dtype: int64>\n",
      "<bound method IndexOpsMixin.value_counts of 0       3.35\n",
      "1       4.75\n",
      "2       7.25\n",
      "3       2.85\n",
      "4       4.60\n",
      "       ...  \n",
      "296     9.50\n",
      "297     4.00\n",
      "298     3.35\n",
      "299    11.50\n",
      "300     5.30\n",
      "Name: Selling_Price, Length: 301, dtype: float64>\n",
      "<bound method IndexOpsMixin.value_counts of 0       5.59\n",
      "1       9.54\n",
      "2       9.85\n",
      "3       4.15\n",
      "4       6.87\n",
      "       ...  \n",
      "296    11.60\n",
      "297     5.90\n",
      "298    11.00\n",
      "299    12.50\n",
      "300     5.90\n",
      "Name: Present_Price, Length: 301, dtype: float64>\n",
      "<bound method IndexOpsMixin.value_counts of 0      27000\n",
      "1      43000\n",
      "2       6900\n",
      "3       5200\n",
      "4      42450\n",
      "       ...  \n",
      "296    33988\n",
      "297    60000\n",
      "298    87934\n",
      "299     9000\n",
      "300     5464\n",
      "Name: Kms_Driven, Length: 301, dtype: int64>\n",
      "<bound method IndexOpsMixin.value_counts of 0      Petrol\n",
      "1      Diesel\n",
      "2      Petrol\n",
      "3      Petrol\n",
      "4      Diesel\n",
      "        ...  \n",
      "296    Diesel\n",
      "297    Petrol\n",
      "298    Petrol\n",
      "299    Diesel\n",
      "300    Petrol\n",
      "Name: Fuel_Type, Length: 301, dtype: object>\n",
      "<bound method IndexOpsMixin.value_counts of 0      Dealer\n",
      "1      Dealer\n",
      "2      Dealer\n",
      "3      Dealer\n",
      "4      Dealer\n",
      "        ...  \n",
      "296    Dealer\n",
      "297    Dealer\n",
      "298    Dealer\n",
      "299    Dealer\n",
      "300    Dealer\n",
      "Name: Seller_Type, Length: 301, dtype: object>\n",
      "<bound method IndexOpsMixin.value_counts of 0      Manual\n",
      "1      Manual\n",
      "2      Manual\n",
      "3      Manual\n",
      "4      Manual\n",
      "        ...  \n",
      "296    Manual\n",
      "297    Manual\n",
      "298    Manual\n",
      "299    Manual\n",
      "300    Manual\n",
      "Name: Transmission, Length: 301, dtype: object>\n",
      "<bound method IndexOpsMixin.value_counts of 0      0\n",
      "1      0\n",
      "2      0\n",
      "3      0\n",
      "4      0\n",
      "      ..\n",
      "296    0\n",
      "297    0\n",
      "298    0\n",
      "299    0\n",
      "300    0\n",
      "Name: Owner, Length: 301, dtype: int64>\n"
     ]
    }
   ],
   "source": [
    "for i in df:\n",
    "    print(df[i].value_counts)"
   ]
  },
  {
   "cell_type": "code",
   "execution_count": 11,
   "id": "68a817f7",
   "metadata": {
    "papermill": {
     "duration": 0.013226,
     "end_time": "2024-01-08T11:00:05.545215",
     "exception": false,
     "start_time": "2024-01-08T11:00:05.531989",
     "status": "completed"
    },
    "tags": []
   },
   "outputs": [],
   "source": [
    "fuel_type,seller_type,transmission=LabelEncoder(),LabelEncoder(),LabelEncoder()"
   ]
  },
  {
   "cell_type": "markdown",
   "id": "49af3cbf",
   "metadata": {
    "papermill": {
     "duration": 0.004621,
     "end_time": "2024-01-08T11:00:05.554762",
     "exception": false,
     "start_time": "2024-01-08T11:00:05.550141",
     "status": "completed"
    },
    "tags": []
   },
   "source": [
    "## Fit into the model and transform it"
   ]
  },
  {
   "cell_type": "code",
   "execution_count": 12,
   "id": "6b6b3d64",
   "metadata": {
    "papermill": {
     "duration": 0.016942,
     "end_time": "2024-01-08T11:00:05.576560",
     "exception": false,
     "start_time": "2024-01-08T11:00:05.559618",
     "status": "completed"
    },
    "tags": []
   },
   "outputs": [],
   "source": [
    "df['Fuel_Type']=fuel_type.fit_transform(df['Fuel_Type'])\n",
    "df['Seller_Type']=seller_type.fit_transform(df['Seller_Type'])\n",
    "df['Transmission']=transmission.fit_transform(df['Transmission'])"
   ]
  },
  {
   "cell_type": "markdown",
   "id": "59abc93a",
   "metadata": {
    "papermill": {
     "duration": 0.00457,
     "end_time": "2024-01-08T11:00:05.586048",
     "exception": false,
     "start_time": "2024-01-08T11:00:05.581478",
     "status": "completed"
    },
    "tags": []
   },
   "source": [
    "## Feauture Selection"
   ]
  },
  {
   "cell_type": "code",
   "execution_count": 13,
   "id": "bcbbb71d",
   "metadata": {
    "papermill": {
     "duration": 0.022977,
     "end_time": "2024-01-08T11:00:05.613783",
     "exception": false,
     "start_time": "2024-01-08T11:00:05.590806",
     "status": "completed"
    },
    "tags": []
   },
   "outputs": [],
   "source": [
    "X=df[['Year','Present_Price', 'Kms_Driven',\n",
    "'Fuel_Type', 'Seller_Type', 'Transmission', 'Owner']]\n",
    "Y=df[[ 'Selling_Price']]"
   ]
  },
  {
   "cell_type": "markdown",
   "id": "3d982d42",
   "metadata": {
    "papermill": {
     "duration": 0.004565,
     "end_time": "2024-01-08T11:00:05.623350",
     "exception": false,
     "start_time": "2024-01-08T11:00:05.618785",
     "status": "completed"
    },
    "tags": []
   },
   "source": [
    "## Make the models in the list to use it"
   ]
  },
  {
   "cell_type": "code",
   "execution_count": 14,
   "id": "70b99a17",
   "metadata": {
    "papermill": {
     "duration": 0.01801,
     "end_time": "2024-01-08T11:00:05.646204",
     "exception": false,
     "start_time": "2024-01-08T11:00:05.628194",
     "status": "completed"
    },
    "tags": []
   },
   "outputs": [],
   "source": [
    "model=LinearRegression()"
   ]
  },
  {
   "cell_type": "markdown",
   "id": "64f6217f",
   "metadata": {
    "papermill": {
     "duration": 0.004626,
     "end_time": "2024-01-08T11:00:05.655770",
     "exception": false,
     "start_time": "2024-01-08T11:00:05.651144",
     "status": "completed"
    },
    "tags": []
   },
   "source": [
    "## Split the data for traing and testing purpose"
   ]
  },
  {
   "cell_type": "code",
   "execution_count": 15,
   "id": "d61aeea8",
   "metadata": {
    "papermill": {
     "duration": 0.015687,
     "end_time": "2024-01-08T11:00:05.676288",
     "exception": false,
     "start_time": "2024-01-08T11:00:05.660601",
     "status": "completed"
    },
    "tags": []
   },
   "outputs": [],
   "source": [
    "x_tr,x_te,y_tr,y_te=train_test_split(X,Y,random_state=42)"
   ]
  },
  {
   "cell_type": "markdown",
   "id": "b69d6a32",
   "metadata": {
    "papermill": {
     "duration": 0.004666,
     "end_time": "2024-01-08T11:00:05.686268",
     "exception": false,
     "start_time": "2024-01-08T11:00:05.681602",
     "status": "completed"
    },
    "tags": []
   },
   "source": [
    "## Ploting with the use of matplot lib"
   ]
  },
  {
   "cell_type": "code",
   "execution_count": 16,
   "id": "0e70b14a",
   "metadata": {
    "papermill": {
     "duration": 0.014379,
     "end_time": "2024-01-08T11:00:05.705430",
     "exception": false,
     "start_time": "2024-01-08T11:00:05.691051",
     "status": "completed"
    },
    "tags": []
   },
   "outputs": [],
   "source": [
    "def plot_fig(y_te,y_pr):\n",
    "    plt.scatter(y_te,y_te,color='blue',label='Actual Labels')\n",
    "    plt.scatter(y_te,y_pr,color='green',label='Predicted Labels')\n",
    "    #plt.plot([min(y_te),max(y_te)],[min(y_te),max(y_te)],color='red',linestyle='--',label='Perfect Prediction')\n",
    "    plt.xlabel('Actual Labels')\n",
    "    plt.ylabel('Predicted Labels')\n",
    "    plt.title(\"Actual vs Predicted Labels\")\n",
    "    plt.legend()\n",
    "    plt.tight_layout()\n",
    "    plt.show()"
   ]
  },
  {
   "cell_type": "markdown",
   "id": "9152502a",
   "metadata": {
    "papermill": {
     "duration": 0.004618,
     "end_time": "2024-01-08T11:00:05.714903",
     "exception": false,
     "start_time": "2024-01-08T11:00:05.710285",
     "status": "completed"
    },
    "tags": []
   },
   "source": [
    "## Iterate over the list and make the models run and plot the predicted values"
   ]
  },
  {
   "cell_type": "code",
   "execution_count": 17,
   "id": "970ba4a9",
   "metadata": {
    "papermill": {
     "duration": 141.294186,
     "end_time": "2024-01-08T11:02:27.013834",
     "exception": false,
     "start_time": "2024-01-08T11:00:05.719648",
     "status": "completed"
    },
    "tags": []
   },
   "outputs": [
    {
     "name": "stdout",
     "output_type": "stream",
     "text": [
      "Absolute_Score 1.233084338259372\n",
      "Mean_Squared_Score 3.4316043692581433\n"
     ]
    },
    {
     "data": {
      "image/png": "[encoded data removed]",
      "text/plain": [
       "<Figure size 640x480 with 1 Axes>"
      ]
     },
     "metadata": {},
     "output_type": "display_data"
    }
   ],
   "source": [
    "\n",
    "model.fit(x_tr,y_tr)\n",
    "y_pr=model.predict(x_te)\n",
    "print(\"Absolute_Score\",mean_absolute_error(y_te,y_pr))\n",
    "print(\"Mean_Squared_Score\",mean_squared_error(y_te,y_pr))\n",
    "plot_fig(y_te,y_pr)"
   ]
  },
  {
   "cell_type": "code",
   "execution_count": 18,
   "id": "fff8fd70",
   "metadata": {
    "papermill": {
     "duration": 0.009777,
     "end_time": "2024-01-08T11:02:27.033692",
     "exception": false,
     "start_time": "2024-01-08T11:02:27.023915",
     "status": "completed"
    },
    "tags": []
   },
   "outputs": [
    {
     "data": {
      "text/plain": [
       "['models/labelencoder.joblib']"
      ]
     },
     "execution_count": 18,
     "metadata": {},
     "output_type": "execute_result"
    }
   ],
   "source": [
    "file='models/linear_reg.joblib'\n",
    "joblib.dump(model,file,protocol=5)\n",
    "label_encoders = [fuel_type,seller_type,transmission]\n",
    "file1 = 'models/labelencoder.joblib'\n",
    "joblib.dump(label_encoders,file1,protocol=5)"
   ]
  },
  {
   "cell_type": "code",
   "execution_count": null,
   "id": "bf562e9b",
   "metadata": {},
   "outputs": [],
   "source": []
  }
 ],
 "metadata": {
  "kaggle": {
   "accelerator": "none",
   "dataSources": [
    {
     "datasetId": 4237925,
     "sourceId": 7304347,
     "sourceType": "datasetVersion"
    }
   ],
   "dockerImageVersionId": 30626,
   "isGpuEnabled": false,
   "isInternetEnabled": true,
   "language": "python",
   "sourceType": "notebook"
  },
  "kernelspec": {
   "display_name": "Python 3 (ipykernel)",
   "language": "python",
   "name": "python3"
  },
  "language_info": {
   "codemirror_mode": {
    "name": "ipython",
    "version": 3
   },
   "file_extension": ".py",
   "mimetype": "text/x-python",
   "name": "python",
   "nbconvert_exporter": "python",
   "pygments_lexer": "ipython3",
   "version": "3.12.4"
  },
  "papermill": {
   "default_parameters": {},
   "duration": 149.688521,
   "end_time": "2024-01-08T11:02:27.866505",
   "environment_variables": {},
   "exception": null,
   "input_path": "__notebook__.ipynb",
   "output_path": "__notebook__.ipynb",
   "parameters": {},
   "start_time": "2024-01-08T10:59:58.177984",
   "version": "2.4.0"
  }
 },
 "nbformat": 4,
 "nbformat_minor": 5
}
